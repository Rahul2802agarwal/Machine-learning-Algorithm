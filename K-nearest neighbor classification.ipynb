{
 "cells": [
  {
   "cell_type": "code",
   "execution_count": 1,
   "metadata": {},
   "outputs": [],
   "source": [
    "import pandas as pd\n",
    "import numpy as np\n",
    "import matplotlib.pyplot as plt"
   ]
  },
  {
   "cell_type": "code",
   "execution_count": 2,
   "metadata": {},
   "outputs": [],
   "source": [
    "data = pd.read_csv('iris.csv')\n",
    "data = data.drop(\"Unnamed: 0\",axis=1)"
   ]
  },
  {
   "cell_type": "code",
   "execution_count": 3,
   "metadata": {},
   "outputs": [],
   "source": [
    "def majority(x):\n",
    "    \"\"\"\n",
    "    Calculate the majority vote \n",
    "    \"\"\"\n",
    "    return x.value_counts().idxmax()"
   ]
  },
  {
   "cell_type": "code",
   "execution_count": 4,
   "metadata": {},
   "outputs": [],
   "source": [
    "def Euclidean_Dist(row1, row2,cols):\n",
    "    \"\"\"\n",
    "    Calculating the euclidean distance \n",
    "    \"\"\"\n",
    "    distance = 0.0\n",
    "    for i in cols:\n",
    "        distance += (row1[i] - row2[i])**2\n",
    "    return np.sqrt(distance)"
   ]
  },
  {
   "cell_type": "code",
   "execution_count": 5,
   "metadata": {},
   "outputs": [],
   "source": [
    "def knn(train_set,train_label,test_row,  k=3):\n",
    "    \"\"\"\n",
    "    Predicting the output\n",
    "    \"\"\"\n",
    "    distance = []\n",
    "    for j in train_set.index:\n",
    "        dist = Euclidean_Dist(train_set.loc[j],\n",
    "                                     test_row,\n",
    "                                     ['Sepal.Length','Sepal.Width','Petal.Length','Petal.Width'])\n",
    "        distance.append((j, dist))\n",
    "    distance.sort(key=lambda item:item[1])\n",
    "    k_neighbours = [item[0] for item in distance]\n",
    "    return majority(train_label[k_neighbours[:k]])"
   ]
  },
  {
   "cell_type": "code",
   "execution_count": 58,
   "metadata": {},
   "outputs": [],
   "source": [
    "from random import randint\n",
    "def train_test_split(data, target, percentage):\n",
    "    \"\"\"\n",
    "    Splitting the dataset into test and train\n",
    "    \"\"\"\n",
    "    split_len = int(len(data)*percentage/100)\n",
    "    return (data[:len(data)-split_len].drop('Species',axis=1), \n",
    "            data['Species'][:len(data)-split_len],\n",
    "            data[len(data)-split_len:].drop('Species',axis=1),\n",
    "            data['Species'][len(data)-split_len:])\n"
   ]
  },
  {
   "cell_type": "code",
   "execution_count": 59,
   "metadata": {},
   "outputs": [
    {
     "name": "stdout",
     "output_type": "stream",
     "text": [
      "45\n"
     ]
    }
   ],
   "source": [
    "train_set, train_label, test_set, test_label = train_test_split(data,'Species',30)"
   ]
  },
  {
   "cell_type": "code",
   "execution_count": 61,
   "metadata": {},
   "outputs": [],
   "source": [
    "prediction = []\n",
    "for i in test_set.index:\n",
    "    prediction.append(knn(train_set, train_label, test_set.loc[i],4))"
   ]
  },
  {
   "cell_type": "code",
   "execution_count": 62,
   "metadata": {},
   "outputs": [
    {
     "name": "stdout",
     "output_type": "stream",
     "text": [
      "              precision    recall  f1-score   support\n",
      "\n",
      "   virginica       1.00      0.62      0.76        13\n",
      "      setosa       1.00      1.00      1.00        16\n",
      "  versicolor       0.76      1.00      0.86        16\n",
      "\n",
      "    accuracy                           0.89        45\n",
      "   macro avg       0.92      0.87      0.88        45\n",
      "weighted avg       0.92      0.89      0.88        45\n",
      "\n"
     ]
    }
   ],
   "source": [
    "from sklearn import metrics\n",
    "print(metrics.classification_report(test_label, prediction, labels=[\"virginica\", \"setosa\",\"versicolor\"]))"
   ]
  },
  {
   "cell_type": "code",
   "execution_count": null,
   "metadata": {},
   "outputs": [],
   "source": []
  },
  {
   "cell_type": "code",
   "execution_count": null,
   "metadata": {},
   "outputs": [],
   "source": []
  },
  {
   "cell_type": "code",
   "execution_count": null,
   "metadata": {},
   "outputs": [],
   "source": []
  }
 ],
 "metadata": {
  "kernelspec": {
   "display_name": "Python 3",
   "language": "python",
   "name": "python3"
  },
  "language_info": {
   "codemirror_mode": {
    "name": "ipython",
    "version": 3
   },
   "file_extension": ".py",
   "mimetype": "text/x-python",
   "name": "python",
   "nbconvert_exporter": "python",
   "pygments_lexer": "ipython3",
   "version": "3.8.3"
  }
 },
 "nbformat": 4,
 "nbformat_minor": 4
}
